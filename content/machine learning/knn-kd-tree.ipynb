{
 "cells": [
  {
   "cell_type": "markdown",
   "metadata": {
    "nbpresent": {
     "id": "34a29788-07e8-4256-ba90-f170fba3a5c4"
    }
   },
   "source": [
    "# 统计学习方法——k近邻法（kNN）"
   ]
  },
  {
   "cell_type": "markdown",
   "metadata": {
    "nbpresent": {
     "id": "1c285d22-d79f-4de0-bc06-9d43a442731c"
    }
   },
   "source": [
    "k近邻法常用来处理分类问题（多分类），有时也能够用来处理回归问题。"
   ]
  },
  {
   "cell_type": "markdown",
   "metadata": {
    "nbpresent": {
     "id": "e9bd4a06-a3b2-4340-8453-dfaa7735c916"
    }
   },
   "source": [
    "假设给定一个训练数据集，其中每个实例样本的类别已经确定，此时有一个新的实例输入，需要判断其类别，这就是一个分类问题。\n",
    "\n",
    "而kNN算法则根据新输入的实例距离最近的k个训练实例预测（判断）其类别。"
   ]
  },
  {
   "cell_type": "markdown",
   "metadata": {
    "nbpresent": {
     "id": "213ef615-a1d1-4014-b723-3660d9135ea7"
    }
   },
   "source": [
    "这里以鸢尾花数据集为例，用python代码说明此问题："
   ]
  },
  {
   "cell_type": "code",
   "execution_count": 1,
   "metadata": {
    "nbpresent": {
     "id": "bdbc56a1-d00b-433c-88d8-78c0004e0c56"
    }
   },
   "outputs": [],
   "source": [
    "import numpy as np\n",
    "import pandas as pd\n",
    "from sklearn import datasets\n",
    "import matplotlib.pyplot as plt\n",
    "%matplotlib inline"
   ]
  },
  {
   "cell_type": "code",
   "execution_count": 2,
   "metadata": {
    "nbpresent": {
     "id": "69e9e931-e1dd-468d-90cc-0a264cc14d0b"
    }
   },
   "outputs": [
    {
     "name": "stdout",
     "output_type": "stream",
     "text": [
      "鸢尾花类型有： ['setosa' 'versicolor' 'virginica']\n",
      "鸢尾花数据集包括的特征有： ['sepal length (cm)', 'sepal width (cm)', 'petal length (cm)', 'petal width (cm)']\n"
     ]
    }
   ],
   "source": [
    "#获取数据\n",
    "iris = datasets.load_iris()\n",
    "print('鸢尾花类型有：',iris.target_names)\n",
    "print('鸢尾花数据集包括的特征有：',iris.feature_names)"
   ]
  },
  {
   "cell_type": "markdown",
   "metadata": {
    "nbpresent": {
     "id": "fdee3a5c-6ee1-47fa-969b-04faffb38445"
    }
   },
   "source": [
    " 为方便可视化，对数据进行预处理，主要包括：\n",
    " \n",
    " 1. 只选两类花的数据，即'setosa'和'versicolor'\n",
    " \n",
    " 2. 只选两个特征，即'sepal length (cm)'和'sepal width (cm)"
   ]
  },
  {
   "cell_type": "code",
   "execution_count": 3,
   "metadata": {
    "nbpresent": {
     "id": "996d5c91-cf79-4ed9-ac9b-417926143283"
    }
   },
   "outputs": [],
   "source": [
    "# 获取y数据，筛选出0和1\n",
    "iris_Y = iris.target\n",
    "iris_sub_Y = iris_Y[iris_Y != 2]\n",
    "# 获取x数据，筛选出y维0或1的x\n",
    "iris_X = iris.data\n",
    "iris_sub_X = iris_X[iris_Y != 2][:,0:2]"
   ]
  },
  {
   "cell_type": "code",
   "execution_count": 4,
   "metadata": {
    "nbpresent": {
     "id": "7359b192-d50d-4867-bb32-ea5c98551933"
    }
   },
   "outputs": [
    {
     "data": {
      "text/plain": [
       "<matplotlib.collections.PathCollection at 0x1a23266d68>"
      ]
     },
     "execution_count": 4,
     "metadata": {},
     "output_type": "execute_result"
    },
    {
     "data": {
      "image/png": "[encoded data removed]",
      "text/plain": [
       "<Figure size 432x288 with 1 Axes>"
      ]
     },
     "metadata": {
      "needs_background": "light"
     },
     "output_type": "display_data"
    }
   ],
   "source": [
    "#绘制散点图 'setosa'为绿色 'versicolor' 为红色，'sepal length (cm)'为x轴，'sepal width (cm)为y轴绘图\n",
    "plt.scatter(iris_sub_X[iris_sub_Y == 0, 0], iris_sub_X[iris_sub_Y == 0, 1], color = 'g')\n",
    "plt.scatter(iris_sub_X[iris_sub_Y == 1, 0], iris_sub_X[iris_sub_Y == 1, 1], color = 'r')"
   ]
  },
  {
   "cell_type": "markdown",
   "metadata": {
    "nbpresent": {
     "id": "5e4dd883-9a88-4c24-a0f4-134bd4cbfb7d"
    }
   },
   "source": [
    "此时，如果有一个新的样本（蓝色），'sepal length (cm)'和'sepal width (cm)'分别为5.4cm和3.2cm，如何判断其实是'setosa'为绿色还是 'versicolor' 为红色"
   ]
  },
  {
   "cell_type": "code",
   "execution_count": 5,
   "metadata": {
    "nbpresent": {
     "id": "4aa7808a-4d2d-4804-90ad-4dc98f11046f"
    }
   },
   "outputs": [
    {
     "data": {
      "text/plain": [
       "<matplotlib.collections.PathCollection at 0x1a23367a58>"
      ]
     },
     "execution_count": 5,
     "metadata": {},
     "output_type": "execute_result"
    },
    {
     "data": {
      "image/png": "[encoded data removed]",
      "text/plain": [
       "<Figure size 432x288 with 1 Axes>"
      ]
     },
     "metadata": {
      "needs_background": "light"
     },
     "output_type": "display_data"
    }
   ],
   "source": [
    "plt.scatter(iris_sub_X[iris_sub_Y == 0, 0], iris_sub_X[iris_sub_Y == 0, 1], color = 'g')\n",
    "plt.scatter(iris_sub_X[iris_sub_Y == 1, 0], iris_sub_X[iris_sub_Y == 1, 1], color = 'r')\n",
    "plt.scatter(5.4, 3.2, color = 'b')"
   ]
  },
  {
   "cell_type": "markdown",
   "metadata": {
    "nbpresent": {
     "id": "8e1773cc-11e2-4863-99f7-1da8745339aa"
    }
   },
   "source": [
    "kNN的思想是，找与样本点距离最近的k个样本，然后根据他们的类型判断样本的类型"
   ]
  },
  {
   "cell_type": "markdown",
   "metadata": {
    "nbpresent": {
     "id": "47016b94-4f5f-4b87-83ac-62a42bd5039d"
    }
   },
   "source": [
    "最简单的方法就是计算这个新样本与数据集的距离"
   ]
  },
  {
   "cell_type": "code",
   "execution_count": 6,
   "metadata": {
    "nbpresent": {
     "id": "8bcf6e0f-48fc-4af6-a92f-59050f09252d"
    }
   },
   "outputs": [],
   "source": [
    "x = [5.4, 3.2]\n",
    "distances = [np.sqrt(np.sum((x - x_train) ** 2)) for x_train in iris_sub_X]"
   ]
  },
  {
   "cell_type": "markdown",
   "metadata": {
    "nbpresent": {
     "id": "11aaa9d0-1da7-4518-8d02-20ead72f0089"
    }
   },
   "source": [
    "然后根据计算的距离找到最近的k个样本的类型，取k=5"
   ]
  },
  {
   "cell_type": "code",
   "execution_count": 7,
   "metadata": {
    "nbpresent": {
     "id": "c3711f41-a45c-4293-90f2-e9c974a878bd"
    }
   },
   "outputs": [
    {
     "data": {
      "text/plain": [
       "[0, 0, 1, 1, 1]"
      ]
     },
     "execution_count": 7,
     "metadata": {},
     "output_type": "execute_result"
    }
   ],
   "source": [
    "nearest = np.argsort(distances)\n",
    "k = 5\n",
    "topK_y = [iris_sub_Y[i] for i in nearest[:k]]\n",
    "topK_y"
   ]
  },
  {
   "cell_type": "markdown",
   "metadata": {
    "nbpresent": {
     "id": "657e2316-b6cb-4323-947f-769618260974"
    }
   },
   "source": [
    "所以我们发现最近的k=5个样本中，有2个'setosa'，3个 'versicolor'。\n",
    "\n",
    "然后可以根据出现频率最高的类型判断样本类型"
   ]
  },
  {
   "cell_type": "code",
   "execution_count": 8,
   "metadata": {
    "nbpresent": {
     "id": "e436a580-2523-4845-82d2-1f8b3cb63753"
    }
   },
   "outputs": [
    {
     "data": {
      "text/plain": [
       "1"
      ]
     },
     "execution_count": 8,
     "metadata": {},
     "output_type": "execute_result"
    }
   ],
   "source": [
    "from collections import Counter\n",
    "Counter(topK_y).most_common(1)[0][0]"
   ]
  },
  {
   "cell_type": "markdown",
   "metadata": {
    "nbpresent": {
     "id": "0725691e-d189-4e85-85ab-6a8dfdc9fec0"
    }
   },
   "source": [
    "## 注意：\n",
    "\n",
    "kNN法需要考虑量刚的问题，例如：某一维度是1000级（1000，1001，998），而另一维是10级（10，12，7），这样前一维度在计算距离时候可能就会站比较大的影响。"
   ]
  },
  {
   "cell_type": "markdown",
   "metadata": {
    "nbpresent": {
     "id": "b2279106-8959-4182-a534-00247ff0cdd5"
    }
   },
   "source": [
    "## 拓展：\n",
    "\n",
    "1. 这里计算新样本点与测试数据集距离是默认采用了欧式距离，其实采用其他距离也是可以的；\n",
    "\n",
    "2. k是超参数，需要通过调试进行选择。k如果选得太大则没有意义（例如：极端的k等于样本数量），而k取太小会受随机因素的影响（例如：极端的k=1，则最近一个样本的误差直接会导致结果的问题）；\n",
    "\n",
    "3. 最后的根据频率选择，其实也可以根据其他的方式，例如距离作为权重计算加权和，此时k近邻法就是一个回归问题了。"
   ]
  },
  {
   "cell_type": "markdown",
   "metadata": {
    "nbpresent": {
     "id": "3113e211-b4a7-4407-a900-5fd099e8c9e3"
    }
   },
   "source": [
    "距离度量：\n",
    "\n",
    "1. $L_{p}$距离也叫 Minkowski 距离：$L_{p}(x_{i}, x_{j}) = (\\sum_{l=1}^{n}|x_{i}^{(l)} - x_{j}^{(l)}|^{p})^{\\frac{1}{p}})$ \n",
    "2. p=2时，就是欧式距离\n",
    "3. p=1时，称为曼哈顿距离\n",
    "4. $p=\\infty $，即$L_{\\infty}(x_{i}, x_{j})=max_{l}| x_{i}^{(l)} - x_{j}^{(l)} |$"
   ]
  },
  {
   "cell_type": "code",
   "execution_count": null,
   "metadata": {
    "nbpresent": {
     "id": "cf515513-715a-4f5c-a4b3-bd4a60fea296"
    }
   },
   "outputs": [],
   "source": []
  },
  {
   "cell_type": "markdown",
   "metadata": {
    "nbpresent": {
     "id": "cc3a8f62-e95b-4ea7-964b-b9a982f74197"
    }
   },
   "source": [
    "## kd树"
   ]
  },
  {
   "cell_type": "markdown",
   "metadata": {
    "nbpresent": {
     "id": "6de7c43b-04ac-4087-b050-caa51d3aa8a0"
    }
   },
   "source": [
    "上面方法虽然可以解决，kNN的问题，而且从思想上来说比较简单易懂。\n",
    "\n",
    "但是，我们还需考虑到计算机计算量的问题， 如果样本很多，且样本的特征也很多，则上述方法计算效率很低，不适合大规模数据的应用。\n",
    "\n",
    "kd树则很好得解决了这个问题。\n",
    "\n",
    "kd树主要分为两步：1、构造kd树；2、搜索kd树。"
   ]
  },
  {
   "cell_type": "markdown",
   "metadata": {
    "nbpresent": {
     "id": "d80a8376-4e16-47dd-bcd2-f7fb039b4735"
    }
   },
   "source": [
    "### 构建kd树"
   ]
  },
  {
   "cell_type": "markdown",
   "metadata": {
    "nbpresent": {
     "id": "ca3f9745-ec57-4488-9302-421a86302bb4"
    }
   },
   "source": [
    "一个简单例子，构造kd树，假设数据集为：$T = \\{ (2, 3)^T,   (5, 4)^T,   (9, 6)^T,   (4, 7)^T,   (8, 1)^T,   (7, 2)^T \\}$"
   ]
  },
  {
   "cell_type": "code",
   "execution_count": 9,
   "metadata": {
    "nbpresent": {
     "id": "f561602d-a146-45a5-8194-92f8f4ae4f3b"
    }
   },
   "outputs": [
    {
     "data": {
      "text/plain": [
       "<matplotlib.collections.PathCollection at 0x1a234344e0>"
      ]
     },
     "execution_count": 9,
     "metadata": {},
     "output_type": "execute_result"
    },
    {
     "data": {
      "image/png": "[encoded data removed]",
      "text/plain": [
       "<Figure size 432x288 with 1 Axes>"
      ]
     },
     "metadata": {
      "needs_background": "light"
     },
     "output_type": "display_data"
    }
   ],
   "source": [
    "a = np.array([[2, 3], [5, 4], [9, 6], [4, 7], [8, 1], [7, 2]])\n",
    "plt.scatter(x=a[:,0], y=a[:,1])"
   ]
  },
  {
   "cell_type": "markdown",
   "metadata": {
    "nbpresent": {
     "id": "82035863-93cc-433b-a1e9-00da9162961e"
    }
   },
   "source": [
    "首先计算第一维数据的中位数（注：在统计学的前沿文献中一般定义分位数$\\mathscr{t}_{p} = inf(x: P(X <= x)>=p)$）,采用这种方法计算中位数上述例子的结果是7，而一般的简单计算中位数遇到偶数个数据采用中间两个的均值处理）"
   ]
  },
  {
   "cell_type": "code",
   "execution_count": 10,
   "metadata": {
    "nbpresent": {
     "id": "ab37df4c-e203-4e92-8170-ba014550880d"
    }
   },
   "outputs": [
    {
     "data": {
      "text/plain": [
       "6.0"
      ]
     },
     "execution_count": 10,
     "metadata": {},
     "output_type": "execute_result"
    }
   ],
   "source": [
    "np.median(a[:,0])"
   ]
  },
  {
   "cell_type": "code",
   "execution_count": 11,
   "metadata": {
    "nbpresent": {
     "id": "7b52d546-aeb1-44f8-9c07-da892d8e9b35"
    }
   },
   "outputs": [
    {
     "data": {
      "text/plain": [
       "<matplotlib.lines.Line2D at 0x1a2346cd68>"
      ]
     },
     "execution_count": 11,
     "metadata": {},
     "output_type": "execute_result"
    },
    {
     "data": {
      "image/png": "[encoded data removed]",
      "text/plain": [
       "<Figure size 432x288 with 1 Axes>"
      ]
     },
     "metadata": {
      "needs_background": "light"
     },
     "output_type": "display_data"
    }
   ],
   "source": [
    "a = np.array([[2, 3], [5, 4], [9, 6], [4, 7], [8, 1], [7, 2]])\n",
    "plt.scatter(x=a[:,0], y=a[:,1], color='r')\n",
    "plt.axvline(6, color='b')"
   ]
  },
  {
   "cell_type": "markdown",
   "metadata": {
    "nbpresent": {
     "id": "fd65917e-0f2b-42a2-a554-e4daf4fbbd4c"
    }
   },
   "source": [
    "这样上面的6个点就被分成了两组$T_{x1<6} = \\{ (2, 3)^T,   (5, 4)^T,  (4, 7)^T \\}$和$T_{x2>6} = \\{  (9, 6)^T,   (8, 1)^T,   (7, 2)^T \\}$。\n",
    "\n",
    "接下啦，分别对这两组数据根据第二维分别计算中位数，然后进行划分"
   ]
  },
  {
   "cell_type": "code",
   "execution_count": 12,
   "metadata": {
    "nbpresent": {
     "id": "7d0bb210-5114-4d38-a036-f74026ac727c"
    },
    "scrolled": true
   },
   "outputs": [
    {
     "data": {
      "text/plain": [
       "[<matplotlib.lines.Line2D at 0x1a235c4080>]"
      ]
     },
     "execution_count": 12,
     "metadata": {},
     "output_type": "execute_result"
    },
    {
     "data": {
      "image/png": "[encoded data removed]",
      "text/plain": [
       "<Figure size 432x288 with 1 Axes>"
      ]
     },
     "metadata": {
      "needs_background": "light"
     },
     "output_type": "display_data"
    }
   ],
   "source": [
    "a = np.array([[2, 3], [5, 4], [9, 6], [4, 7], [8, 1], [7, 2]])\n",
    "plt.scatter(x=a[:,0], y=a[:,1], color='r')\n",
    "plt.axvline(6, color='b')\n",
    "plt.plot([0,6], [4,4], color='g')\n",
    "plt.plot([6,10], [2,2], color='g')"
   ]
  },
  {
   "cell_type": "markdown",
   "metadata": {
    "nbpresent": {
     "id": "c795846d-b26d-4cd6-b4e1-56ffc3fa89b9"
    }
   },
   "source": [
    "然后，在上一维划分的基础上，再对下一维度进行划分（如果没有下一维则回到第一维，一般要求垂直即可，在kd树中采用深度对特征维数取余数的方法），直到分尽为止。"
   ]
  },
  {
   "cell_type": "code",
   "execution_count": 13,
   "metadata": {
    "nbpresent": {
     "id": "ab21eb60-b696-4d6c-87a7-01d098eba1e4"
    },
    "scrolled": true
   },
   "outputs": [
    {
     "data": {
      "text/plain": [
       "[<matplotlib.lines.Line2D at 0x1a236964a8>]"
      ]
     },
     "execution_count": 13,
     "metadata": {},
     "output_type": "execute_result"
    },
    {
     "data": {
      "image/png": "[encoded data removed]",
      "text/plain": [
       "<Figure size 432x288 with 1 Axes>"
      ]
     },
     "metadata": {
      "needs_background": "light"
     },
     "output_type": "display_data"
    }
   ],
   "source": [
    "a = np.array([[2, 3], [5, 4], [9, 6], [4, 7], [8, 1], [7, 2]])\n",
    "plt.scatter(x=a[:,0], y=a[:,1], color='r')\n",
    "plt.axvline(6, color='b')\n",
    "plt.plot([0,6], [4,4], color='g')\n",
    "plt.plot([6,10], [2,2], color='g')\n",
    "plt.plot([4,4], [4,8], color='y')\n",
    "plt.plot([2,2], [0,4], color='y')\n",
    "plt.plot([8,8], [0,2], color='y')\n",
    "plt.plot([9,9], [2,8], color='y')"
   ]
  },
  {
   "cell_type": "markdown",
   "metadata": {
    "nbpresent": {
     "id": "f19eb7bb-b9c4-4cd7-ae94-ef2ead5a9e22"
    }
   },
   "source": [
    "## kd树构建python实现"
   ]
  },
  {
   "cell_type": "markdown",
   "metadata": {
    "nbpresent": {
     "id": "0cb77784-f99f-4f18-902a-043e572a214f"
    }
   },
   "source": [
    "首先，构建测试数据集，假设样本有100个，每个样本有10个特征"
   ]
  },
  {
   "cell_type": "code",
   "execution_count": 14,
   "metadata": {
    "nbpresent": {
     "id": "ba3335ce-0628-4a7a-bf74-e08f4a31f216"
    }
   },
   "outputs": [
    {
     "data": {
      "text/plain": [
       "(100, 10)"
      ]
     },
     "execution_count": 14,
     "metadata": {},
     "output_type": "execute_result"
    }
   ],
   "source": [
    "ndata = 100\n",
    "ndim = 10\n",
    "data = 10 * np.random.rand(ndata * ndim).reshape((ndata,ndim))\n",
    "data.shape"
   ]
  },
  {
   "cell_type": "markdown",
   "metadata": {
    "nbpresent": {
     "id": "517886cf-7901-4589-8d78-6449b4b04788"
    }
   },
   "source": [
    "因为树的每个节点其实是一个if-then的条件判断，同时kd树是一个二叉树。所以在每个节点需要给出每个分支的条件。因此，需要构建一个array存储令为hrect。\n",
    "\n",
    "hrect为2行10列（列数同特征数），其中第一行为进入该节点的数据每个特征的最小值，第二行为最大值。"
   ]
  },
  {
   "cell_type": "code",
   "execution_count": 15,
   "metadata": {
    "nbpresent": {
     "id": "c4ec9582-f4f8-4953-934b-d52a9cf6a040"
    }
   },
   "outputs": [],
   "source": [
    "hrect = np.zeros((2, ndim))\n",
    "hrect[0,:] = data.min()\n",
    "hrect[1,:] = data.max()"
   ]
  },
  {
   "cell_type": "markdown",
   "metadata": {
    "nbpresent": {
     "id": "164c5395-c5a3-49b9-bdbd-60cb41fda443"
    }
   },
   "source": [
    "首先以第一维数据的中位数对data进行分割"
   ]
  },
  {
   "cell_type": "code",
   "execution_count": 16,
   "metadata": {
    "nbpresent": {
     "id": "94616bf2-5035-4e82-9700-32d0a4e4489b"
    }
   },
   "outputs": [],
   "source": [
    "idx = np.argsort(data[:,0], kind='mergesort') #获取第一维数据的序号\n",
    "data = data[idx,:] #对data进行从小到大排序\n",
    "splitval = data[int(ndata/2),0] #获取第一维数据的分割点，也就是中位数\n",
    "\n",
    "left_hrect = hrect.copy()\n",
    "left_hrect[1,0] = splitval #左分支的条件\n",
    "right_hrect = hrect.copy()\n",
    "right_hrect[0,0] = splitval #右分支条件"
   ]
  },
  {
   "cell_type": "markdown",
   "metadata": {
    "nbpresent": {
     "id": "5d74f733-4fa4-47a2-91ae-0304a471d67a"
    }
   },
   "source": [
    "构建数，树在python中用list表示，list的每个元素表示树的节点用tuple表示。\n",
    "\n",
    "每个tuple包含的该节点的基本信息，包括：该节点下数据（样本）的索引（只有当节点是叶节点时才会有，否则维None），该节点下的数据（样本）（也只有是叶节点才会有，否则维None），该节点左分支的条件（只有不是叶节点才有，叶节点为None），该节点右分支的条件（只有不是叶节点才有，叶节点为None），以及该节点左分支下一个节点在树中的索引和右分支下一个节点在树中的索引。\n",
    "\n",
    "同时还需要构建一个list令为stack，用于存储还需要进行再分的数据。该list的每个元素也是一个tuple。\n",
    "\n",
    "该tuple包含：需要处理的数据和他们的索引，当前节点深度，父节点深度，左分支还是右分支（这里用布尔值，左分支为True）"
   ]
  },
  {
   "cell_type": "code",
   "execution_count": 17,
   "metadata": {
    "nbpresent": {
     "id": "52e76d10-c93f-428f-a40b-c5ccb6f504b9"
    }
   },
   "outputs": [],
   "source": [
    "tree = [(None, None, left_hrect, right_hrect, None, None)]\n",
    "stack = [(data[:int(ndata/2),:], idx[:int(ndata/2)], 1, 0, True),\n",
    "        (data[int(ndata/2):,:], idx[int(ndata/2):], 1, 0, False),]"
   ]
  },
  {
   "cell_type": "markdown",
   "metadata": {
    "nbpresent": {
     "id": "17c072fe-cf5b-4d18-92e9-3003b36cc0f8"
    }
   },
   "source": [
    "接下来，进入下一层，对数据进行分类，首先从stack获取数据，因为stack用来存储需要分类的数据，同时非空list的布尔值为True，那么可以通过 while stack进行循环，每次循环通过pop截取list中最后一项，产生新数据时再通过append，即可。"
   ]
  },
  {
   "cell_type": "code",
   "execution_count": 18,
   "metadata": {
    "nbpresent": {
     "id": "4654cc6c-7296-4c90-959d-c02c91c6fbe3"
    }
   },
   "outputs": [],
   "source": [
    "data, didx, depth, parent, leftbranch = stack.pop() # 更新数据，分别用data，didx，depth，parent，leftbranch表示当前循环需要处理的数据，以及他们的索引，深度、父节点在tree中的索引，是不是左分支等\n",
    "ndata = data.shape[0] #当前数据样本个数\n",
    "nodeptr = len(tree) #当前树的深度。"
   ]
  },
  {
   "cell_type": "markdown",
   "metadata": {
    "nbpresent": {
     "id": "1d80152f-733a-47ea-8c81-ba72f5941d2b"
    }
   },
   "source": [
    "下面对上一层树进行更新，更新的目的，是要告诉父节点它的左（或右）节点在tree这个list中的位置。"
   ]
  },
  {
   "cell_type": "code",
   "execution_count": 19,
   "metadata": {
    "nbpresent": {
     "id": "9d5a8f14-50b8-4cdf-a1bf-cea779b28a40"
    }
   },
   "outputs": [],
   "source": [
    "_didx, _data, _left_hrect, _right_hrect, left, right = tree[parent] #先获取父节点数据\n",
    "tree[parent] = (_didx, _data, _left_hrect, _right_hrect, nodeptr, right) if leftbranch else (_didx, _data, _left_hrect, _right_hrect, left, nodeptr) #告诉父节点它的左或右分支在tree的位置"
   ]
  },
  {
   "cell_type": "markdown",
   "metadata": {
    "nbpresent": {
     "id": "5d04315f-79c4-41bd-97b0-53d636af17ea"
    }
   },
   "source": [
    "接下来，判断当前的节点是不是叶节点，也就是数据是否还需要再分。\n",
    "\n",
    "首先设置一个**叶节点最大样本数量的限制变量**"
   ]
  },
  {
   "cell_type": "code",
   "execution_count": 20,
   "metadata": {
    "nbpresent": {
     "id": "bc17e4a9-34cc-4096-87ea-5b6b9fe7e9f4"
    }
   },
   "outputs": [],
   "source": [
    "leafsize = 10"
   ]
  },
  {
   "cell_type": "markdown",
   "metadata": {
    "nbpresent": {
     "id": "e3928988-9e85-435f-9c77-c2d12ff969ff"
    }
   },
   "source": [
    "如果当前节点数据样本树少于 leafsize，则无需再分，只需要对tree新增一个叶节点即可，stack不需要改变"
   ]
  },
  {
   "cell_type": "code",
   "execution_count": 21,
   "metadata": {
    "nbpresent": {
     "id": "29edf376-3ffd-4177-8c58-a60cd62de4c4"
    }
   },
   "outputs": [],
   "source": [
    "if ndata <= leafsize:\n",
    "    _didx = didx.copy()\n",
    "    _data = data.copy()\n",
    "    leaf = (_didx, _data, None, None, 0, 0) #叶节点不需要再判断条件也没有左右分支，所以分别取为None和0\n",
    "    tree.append(leaf)"
   ]
  },
  {
   "cell_type": "markdown",
   "metadata": {
    "nbpresent": {
     "id": "a466de99-6e25-4dce-8de0-adb5672bfc75"
    }
   },
   "source": [
    "**否则**，还需要对数据进行再分，对第几维特征进行划分（前面讲过为：深度相对于特征总维数的余），然后进行排序划分，更新stack（因为此时不是叶节点，还有下一级节点）"
   ]
  },
  {
   "cell_type": "code",
   "execution_count": 22,
   "metadata": {
    "nbpresent": {
     "id": "2c2679a8-c697-44d6-ab9f-f8f080a8d837"
    }
   },
   "outputs": [],
   "source": [
    "splitdim = depth % ndim #对第几维进行划分\n",
    "idx = np.argsort(data[:, splitdim], kind='mergesort') #获取splitdim的排序序号\n",
    "data[:, :] = data[idx, :] #对data进行从小到大排序\n",
    "didx = didx[idx] #对上一级节点传递下来的数据索引也要排序，保证最后能找到所有样本原来的位置\n",
    "nodeptr = len(tree) #nodeptr保存在tree中，表示节点在tree中的位置，这也要存储到stack中，在下一次处理时候才能够找到父节点\n",
    "stack.append((data[:int(ndata/2), :], didx[:int(ndata/2)], depth+1, nodeptr, True))\n",
    "stack.append((data[int(ndata/2):, :], didx[int(ndata/2):], depth+1, nodeptr, False))"
   ]
  },
  {
   "cell_type": "markdown",
   "metadata": {
    "nbpresent": {
     "id": "76c21a88-d218-4920-82dc-32a9a8caa8c0"
    }
   },
   "source": [
    "下面还要对tree进行更新"
   ]
  },
  {
   "cell_type": "code",
   "execution_count": 23,
   "metadata": {
    "nbpresent": {
     "id": "60820a4b-68c5-41ab-be81-2c691213585a"
    }
   },
   "outputs": [],
   "source": [
    "splitval = data[int(ndata/2), splitdim]\n",
    "if leftbranch:\n",
    "    left_hrect = _left_hrect.copy()\n",
    "    right_hrect = _right_hrect.copy()\n",
    "else:\n",
    "    left_hrect = _right_hrect.copy()\n",
    "    right_hrect = _right_hrect.copy()\n",
    "left_hrect[1, splitdim] = splitval\n",
    "right_hrect[0, splitdim] = splitval\n",
    "tree.append((None, None, left_hrect, right_hrect, None, None))"
   ]
  },
  {
   "cell_type": "markdown",
   "metadata": {
    "nbpresent": {
     "id": "765e1100-ba92-4b3f-bcd6-c2dfbc4799d3"
    }
   },
   "source": [
    "完整定义函数code："
   ]
  },
  {
   "cell_type": "code",
   "execution_count": 24,
   "metadata": {
    "nbpresent": {
     "id": "60365cc0-ed14-4443-8aa6-4b034e5a0bae"
    }
   },
   "outputs": [],
   "source": [
    "def kdtree(data, leafsize= 10):\n",
    "    ndata = data.shape[0]\n",
    "    ndim = data.shape[1]\n",
    "\n",
    "    hrect = np.zeros((2, ndim))\n",
    "    hrect[0,:] = data.min()\n",
    "    hrect[1,:] = data.max()\n",
    "\n",
    "    idx = np.argsort(data[:,0], kind='mergesort') #获取第一维数据的序号\n",
    "    data = data[idx,:] #对data进行从小到大排序\n",
    "    splitval = data[int(ndata/2),0] #获取第一维数据的分割点，也就是中位数\n",
    "\n",
    "    left_hrect = hrect.copy()\n",
    "    left_hrect[1,0] = splitval #左分支的条件\n",
    "    right_hrect = hrect.copy()\n",
    "    right_hrect[0,0] = splitval #右分支条件\n",
    "\n",
    "    tree = [(None, None, left_hrect, right_hrect, None, None)]\n",
    "    stack = [(data[:int(ndata/2),:], idx[:int(ndata/2)], 1, 0, True),(data[int(ndata/2):,:], idx[int(ndata/2):], 1, 0, False),]\n",
    "    \n",
    "    while stack:\n",
    "        data, didx, depth, parent, leftbranch = stack.pop() # 更新数据，分别用data，didx，depth，parent，leftbranch表示当前循环需要处理的数据，以及他们的索引，深度、父节点在tree中的索引，是不是左分支等\n",
    "        ndata = data.shape[0] #当前数据样本个数\n",
    "        nodeptr = len(tree) #当前树的深度。\n",
    "\n",
    "        _didx, _data, _left_hrect, _right_hrect, left, right = tree[parent] #先获取父节点数据\n",
    "        tree[parent] = (_didx, _data, _left_hrect, _right_hrect, nodeptr, right) if leftbranch else (_didx, _data, _left_hrect, _right_hrect, left, nodeptr) #告诉父节点它的左或右分支在tree的位置\n",
    "\n",
    "        if ndata <= leafsize:\n",
    "            _didx = didx.copy()\n",
    "            _data = data.copy()\n",
    "            leaf = (_didx, _data, None, None, 0, 0) #叶节点不需要再判断条件也没有左右分支，所以分别取为None和0\n",
    "            tree.append(leaf)\n",
    "        else:\n",
    "            splitdim = depth % ndim #对第几维进行划分\n",
    "            idx = np.argsort(data[:, splitdim], kind='mergesort') #获取splitdim的排序序号\n",
    "            data[:, :] = data[idx, :] #对data进行从小到大排序\n",
    "            didx = didx[idx] #对上一级节点传递下来的数据索引也要排序，保证最后能找到所有样本原来的位置\n",
    "            nodeptr = len(tree) #nodeptr保存在tree中，表示节点在tree中的位置，这也要存储到stack中，在下一次处理时候才能够找到父节点\n",
    "            stack.append((data[:int(ndata/2), :], didx[:int(ndata/2)], depth+1, nodeptr, True))\n",
    "            stack.append((data[int(ndata/2):, :], didx[int(ndata/2):], depth+1, nodeptr, False))\n",
    "\n",
    "            splitval = data[int(ndata/2), splitdim]\n",
    "            if leftbranch:\n",
    "                left_hrect = _left_hrect.copy()\n",
    "                right_hrect = _right_hrect.copy()\n",
    "            else:\n",
    "                left_hrect = _right_hrect.copy()\n",
    "                right_hrect = _right_hrect.copy()\n",
    "            left_hrect[1, splitdim] = splitval\n",
    "            right_hrect[0, splitdim] = splitval\n",
    "            tree.append((None, None, left_hrect, right_hrect, None, None))\n",
    "    return tree"
   ]
  },
  {
   "cell_type": "markdown",
   "metadata": {
    "nbpresent": {
     "id": "690f1652-aaa8-4996-868c-153d4e7f0d9e"
    }
   },
   "source": [
    "### 搜索kd树"
   ]
  },
  {
   "cell_type": "markdown",
   "metadata": {
    "nbpresent": {
     "id": "4957d839-dc00-4ee2-a4c0-87f706792e6e"
    }
   },
   "source": [
    "上面已经完成了对kd树的构建，此时如果有一个新的样本，如何寻找跟其距离最近的k个点呢？\n",
    "\n",
    "1. 找到该新样本所在的叶节点：从根节点出发，递归逐级向下寻找，直到子节点为叶节点为止。\n",
    "\n",
    "2. 以此节点为“当前最近点”。\n",
    "\n",
    "3. 再递归向上寻找，在每个节点：首先，如果该节点保存的实例点比当前最近距离更近，则以该实例点为‘最近点’；如果存在“新的最近点”则其一定是在该节点的一个子节点内（检查该子节点的区域是否与以目标点为圆心，以“当前最近距离”为半径的球相交）；如果相交则在该子节点内可能存在距离目标更近的点，移动到该节点再进行搜索。\n",
    "\n",
    "4. 直到搜索到根节点为止。"
   ]
  },
  {
   "cell_type": "markdown",
   "metadata": {},
   "source": [
    "## 搜索kd树的python实现\n",
    "\n",
    "这里我们参考scipy提供的kd树搜索代码，对上述代码略作修改，从树根向节点进行搜索。其实方法是大同小异的。"
   ]
  },
  {
   "cell_type": "markdown",
   "metadata": {},
   "source": [
    "首先通过上面的代码构建一个kd树tree，一个测试数据datapoint和K"
   ]
  },
  {
   "cell_type": "code",
   "execution_count": 77,
   "metadata": {},
   "outputs": [],
   "source": [
    "tree = kdtree(data)\n",
    "ntest = 1\n",
    "datapoint = 10 * np.random.rand(ntest * ndim).reshape((ntest,ndim))\n",
    "K = 3"
   ]
  },
  {
   "cell_type": "markdown",
   "metadata": {},
   "source": [
    "首先同样通过stack来存储需要处理的节点，knn用来存储最近的K个点到测试点的距离（按从小到大排，默认无穷的）,_datapt为一个测试样本"
   ]
  },
  {
   "cell_type": "code",
   "execution_count": 78,
   "metadata": {},
   "outputs": [],
   "source": [
    "stack = [tree[0]]\n",
    "knn = [(np.inf, None)] * K\n",
    "_datapt = datapoint[0, :]"
   ]
  },
  {
   "cell_type": "markdown",
   "metadata": {},
   "source": [
    "同样的，每次对stack进行结尾，然后对当前节点进行处理。"
   ]
  },
  {
   "cell_type": "code",
   "execution_count": 84,
   "metadata": {},
   "outputs": [],
   "source": [
    "leaf_idx, leaf_data, left_hrect, right_hrect, left, right = stack.pop()"
   ]
  },
  {
   "cell_type": "markdown",
   "metadata": {},
   "source": [
    "因为我们知道在构建kd tree的时候，对于叶节点来说leaf_idx和leaf_data非空，而中间节点left_hrect和right_hrect非空。所以可以根据根据 leaf_idx是否为None判断是不是叶节点。"
   ]
  },
  {
   "cell_type": "markdown",
   "metadata": {},
   "source": [
    "如果不是叶节点，则判断当前节点的左右两个分支是否有可能存在比当前最近的K个点更近的点。"
   ]
  },
  {
   "cell_type": "code",
   "execution_count": 47,
   "metadata": {},
   "outputs": [],
   "source": [
    "#定义一个判断中间节点的分支内是否有更近的点存在，其实计算的是测试数据与该分支的条件（范围）的距离，所以只需要计算不在该范围内的特征所产生的距离。\n",
    "#其中hrect表示分支的条件，r2表示要成为最近的K个点之一的最大距离，centroid表示中心（也就是测试数据）\n",
    "def intersect(hrect, r2, centroid):\n",
    "    maxval = hrect[1, :] #获取该分支各特征的最大值\n",
    "    minval = hrect[0, :] #各特征的最小值\n",
    "    # 设置一个参数p，p在大部分特征与测试数据相同，只有当该特征的数据不在这范围内时才与centroid不同\n",
    "    p = centroid.copy() \n",
    "    idx = p < minval \n",
    "    p[idx] = minval[idx]\n",
    "    idx = p > maxval\n",
    "    p[idx] = maxval[idx]\n",
    "    return ((p-centroid)**2).sum() < r2 #计算距离"
   ]
  },
  {
   "cell_type": "markdown",
   "metadata": {},
   "source": [
    "因为在每个中间节点都存在左右两个分支，所以都需要判断一下，然后根据判断结果True or False对节点的下一层是否还需要进行搜索"
   ]
  },
  {
   "cell_type": "code",
   "execution_count": 52,
   "metadata": {},
   "outputs": [],
   "source": [
    "if intersect(left_hrect, knn[-1][0], _datapt):\n",
    "    stack.append(tree[left])\n",
    "if intersect(right_hrect, knn[-1][0], _datapt):\n",
    "    stack.append(tree[right])"
   ]
  },
  {
   "cell_type": "markdown",
   "metadata": {},
   "source": [
    "如果是叶节点，则计算"
   ]
  },
  {
   "cell_type": "code",
   "execution_count": 28,
   "metadata": {},
   "outputs": [],
   "source": [
    "#定义一个函数计算叶节点中数据与测试数据的距离，并判断是否小于“当前最小距离”中的任意一个。\n",
    "#其中data表示测试数据，lidx和ldata表示该叶节点上的数据及其索引。\n",
    "def quadratic_knn_search(data, lidx, ldata, K):\n",
    "    ndata = ldata.shape[0]\n",
    "    param = ldata.shape[1]\n",
    "    K = K if K < ndata else ndata\n",
    "    retval = []\n",
    "    sqd = ((ldata - data)**2).sum(axis=1)\n",
    "    idx = np.argsort(sqd, kind='mergesort')\n",
    "    idx = idx[:K]\n",
    "    return zip(sqd[idx], lidx[idx])"
   ]
  },
  {
   "cell_type": "markdown",
   "metadata": {},
   "source": [
    "完整的搜索kd树代码如下："
   ]
  },
  {
   "cell_type": "code",
   "execution_count": 95,
   "metadata": {},
   "outputs": [],
   "source": [
    "def quadratic_knn_search(data, lidx, ldata, K):\n",
    "    ndata = ldata.shape[0]\n",
    "    param = ldata.shape[1]\n",
    "    K = K if K < ndata else ndata\n",
    "    retval = []\n",
    "    sqd = ((ldata - data)**2).sum(axis=1)\n",
    "    idx = np.argsort(sqd, kind='mergesort')\n",
    "    idx = idx[:K]\n",
    "    return zip(sqd[idx], lidx[idx])\n",
    "\n",
    "def intersect(hrect, r2, centroid):\n",
    "    maxval = hrect[1, :] #获取该分支各特征的最大值\n",
    "    minval = hrect[0, :] #各特征的最小值\n",
    "    # 设置一个参数p，p在大部分特征与测试数据相同，只有当该特征的数据不在这范围内时才与centroid不同\n",
    "    p = centroid.copy() \n",
    "    idx = p < minval \n",
    "    p[idx] = minval[idx]\n",
    "    idx = p > maxval\n",
    "    p[idx] = maxval[idx]\n",
    "    return ((p-centroid)**2).sum() < r2 #计算距离\n",
    "\n",
    "def search_kdtree(tree, datapoint, K):\n",
    "    stack = [tree[0]]\n",
    "    knn = [(np.inf, None)] * K\n",
    "    _datapt = datapoint[0, :]\n",
    "    while stack:\n",
    "        leaf_idx, leaf_data, left_hrect, right_hrect, left, right = stack.pop()\n",
    "        if leaf_idx is not None:\n",
    "            _knn = quadratic_knn_search(datapoint, leaf_idx, leaf_data, K)\n",
    "            if _knn[0][0] < knn[-1][0]:\n",
    "                knn = sorted(knn + _knn)[:K]\n",
    "        else:\n",
    "            if intersect(left_hrect, knn[-1][0], _datapt):\n",
    "                stack.append(tree[left])\n",
    "            if intersect(right_hrect, knn[-1][0], _datapt):\n",
    "                stack.append(tree[right])\n",
    "    return knn"
   ]
  }
 ],
 "metadata": {
  "kernelspec": {
   "display_name": "Python 3",
   "language": "python",
   "name": "python3"
  },
  "language_info": {
   "codemirror_mode": {
    "name": "ipython",
    "version": 3
   },
   "file_extension": ".py",
   "mimetype": "text/x-python",
   "name": "python",
   "nbconvert_exporter": "python",
   "pygments_lexer": "ipython3",
   "version": "3.6.6"
  }
 },
 "nbformat": 4,
 "nbformat_minor": 2
}
