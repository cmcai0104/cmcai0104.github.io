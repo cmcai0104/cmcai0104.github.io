{
 "cells": [
  {
   "cell_type": "markdown",
   "metadata": {},
   "source": [
    "# 朴素贝叶斯（Naive Bayes）"
   ]
  },
  {
   "cell_type": "markdown",
   "metadata": {},
   "source": [
    "最常用于分类问题（包括多分类），特别是特征也是离散变量的情况"
   ]
  },
  {
   "cell_type": "markdown",
   "metadata": {},
   "source": [
    "所谓朴素贝叶斯法主要是基于两大假设：\n",
    "\n",
    "1. 条件独立性。样本的各个特征在结果给定的条件下（也就是当y是确定时）是相互独立的；\n",
    "\n",
    "2. 基于贝叶斯后验概率最大计算参数。"
   ]
  },
  {
   "cell_type": "markdown",
   "metadata": {},
   "source": [
    "**通过例子解释**"
   ]
  },
  {
   "cell_type": "code",
   "execution_count": 1,
   "metadata": {},
   "outputs": [],
   "source": [
    "import numpy as np\n",
    "import pandas as pd\n",
    "from sklearn import datasets\n",
    "import matplotlib.pyplot as plt\n",
    "%matplotlib inline"
   ]
  },
  {
   "cell_type": "code",
   "execution_count": 2,
   "metadata": {},
   "outputs": [
    {
     "name": "stdout",
     "output_type": "stream",
     "text": [
      "鸢尾花类型有： ['setosa' 'versicolor' 'virginica']\n",
      "鸢尾花数据集包括的特征有： ['sepal length (cm)', 'sepal width (cm)', 'petal length (cm)', 'petal width (cm)']\n"
     ]
    }
   ],
   "source": [
    "#获取鸢尾花数据\n",
    "iris = datasets.load_iris()\n",
    "print('鸢尾花类型有：',iris.target_names)\n",
    "print('鸢尾花数据集包括的特征有：',iris.feature_names)"
   ]
  },
  {
   "cell_type": "code",
   "execution_count": 4,
   "metadata": {},
   "outputs": [],
   "source": [
    "y = iris.target\n",
    "X = iris.data"
   ]
  },
  {
   "cell_type": "markdown",
   "metadata": {},
   "source": [
    "所以$X$表示样本的特征，也就是模型的输入；$y$是标记，是模型的输出。"
   ]
  },
  {
   "cell_type": "markdown",
   "metadata": {},
   "source": [
    "其实构建模型的最终目标是要计算$P(y = c_k |X)$，即在$X$给定的条件下计算$y=c_k$的概率。这里假设$y$是离散变量，其可能的取值是$c_k$"
   ]
  },
  {
   "cell_type": "markdown",
   "metadata": {},
   "source": [
    "那么根据Bayes准则，可以得到如下转换：\n",
    "\n",
    "$$P(y=c_k | X) = \\frac{P(X, y=c_k)}{P(X)} = \\frac{P(X | y=c_k) P(y=c_k)}{\\sum_{k} P(X | y=c_k) P(y=c_k)}$$"
   ]
  },
  {
   "cell_type": "markdown",
   "metadata": {},
   "source": [
    "而 $$P(X | y=c_k) = P(X^1=x^1, X^2=x^2, ... , X^n=x^n | y = x_k)$$ 这里$n=4$."
   ]
  },
  {
   "cell_type": "markdown",
   "metadata": {},
   "source": [
    "要计算上述式子相当困难。\n",
    "\n",
    "而朴素贝叶斯模型，又加了一个条件：在$y$给定的条件下，各特征之间相互独立。那么上述式子可以转化为\n",
    "\n",
    "$$P(X | y=c_k) = P(X^1=x^1, X^2=x^2, ... , X^n=x^n | y = c_k) = \\prod_{j=1}^n P(X^j=x^j | y=c_k)$$"
   ]
  },
  {
   "cell_type": "markdown",
   "metadata": {},
   "source": [
    "带入得到：\n",
    "\n",
    "$$P(y=c_k | X) = \\frac{P(y=c_k) \\prod_{j=1}^n P(X^j=x^j | y=c_k)}{\\sum_k P(y=c_k) \\prod_{j=1}^n P(X^j=x^j | y=c_k)}$$"
   ]
  },
  {
   "cell_type": "markdown",
   "metadata": {},
   "source": [
    "所以，只需要找到某一个$k$或者（$c_k$）使得上述式子最大化即可。"
   ]
  },
  {
   "cell_type": "markdown",
   "metadata": {},
   "source": [
    "其中，$P(X^j=x^j | y=c_k)$的计算一般根据频率统计即可"
   ]
  },
  {
   "cell_type": "markdown",
   "metadata": {},
   "source": [
    "所以，这种方法常用与分类问题（包括多分类），特别是特征也是离散变量的情况。\n",
    "\n",
    "如果是回归问题， 也就是$y$是连续变量那么还需要对$P(X^j | y)$以及$P(y)$的分布进行进一步假设，在通过极大似然估计法估计相关参数。"
   ]
  },
  {
   "cell_type": "code",
   "execution_count": null,
   "metadata": {},
   "outputs": [],
   "source": []
  }
 ],
 "metadata": {
  "kernelspec": {
   "display_name": "Python 3",
   "language": "python",
   "name": "python3"
  },
  "language_info": {
   "codemirror_mode": {
    "name": "ipython",
    "version": 3
   },
   "file_extension": ".py",
   "mimetype": "text/x-python",
   "name": "python",
   "nbconvert_exporter": "python",
   "pygments_lexer": "ipython3",
   "version": "3.6.6"
  }
 },
 "nbformat": 4,
 "nbformat_minor": 2
}
